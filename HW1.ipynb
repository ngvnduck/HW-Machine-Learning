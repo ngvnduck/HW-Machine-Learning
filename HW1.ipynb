{
  "nbformat": 4,
  "nbformat_minor": 0,
  "metadata": {
    "colab": {
      "provenance": [],
      "mount_file_id": "1klHGvoD8aXwcpIEjTMYHqXQqRux-y0Hh",
      "authorship_tag": "ABX9TyPSvH774cArKBDWiwjFGlVo",
      "include_colab_link": true
    },
    "kernelspec": {
      "name": "python3",
      "display_name": "Python 3"
    },
    "language_info": {
      "name": "python"
    }
  },
  "cells": [
    {
      "cell_type": "markdown",
      "metadata": {
        "id": "view-in-github",
        "colab_type": "text"
      },
      "source": [
        "<a href=\"https://colab.research.google.com/github/ngvnduck/HW1-Machine-Learning-Week-9/blob/main/HW1.ipynb\" target=\"_parent\"><img src=\"https://colab.research.google.com/assets/colab-badge.svg\" alt=\"Open In Colab\"/></a>"
      ]
    },
    {
      "cell_type": "markdown",
      "source": [
        "# Testing code\n"
      ],
      "metadata": {
        "id": "3C0XROKTsHR-"
      }
    },
    {
      "cell_type": "code",
      "execution_count": null,
      "metadata": {
        "colab": {
          "base_uri": "https://localhost:8080/"
        },
        "id": "E34GUd0bDc-a",
        "outputId": "dcd7be02-9d0e-417d-b368-f2b859a80f25"
      },
      "outputs": [
        {
          "output_type": "execute_result",
          "data": {
            "text/plain": [
              "array([0.5])"
            ]
          },
          "metadata": {},
          "execution_count": 3
        }
      ],
      "source": [
        "from sklearn import tree\n",
        "X = [[0 , 0] , [2 , 2]]\n",
        "y = [0.5 , 2.5]\n",
        "clf = tree.DecisionTreeRegressor ()\n",
        "clf = clf.fit(X, y)\n",
        "clf.predict([[1 , 1]])"
      ]
    },
    {
      "cell_type": "markdown",
      "source": [
        "# example_dt_iris.py"
      ],
      "metadata": {
        "id": "sAVvLGYwsJsv"
      }
    },
    {
      "cell_type": "code",
      "source": [
        "\"\"\"\n",
        "================================================================\n",
        "Plot the decision surface of a decision tree on the iris dataset\n",
        "================================================================\n",
        "\n",
        "Plot the decision surface of a decision tree trained on pairs\n",
        "of features of the iris dataset.\n",
        "\n",
        "See :ref:`decision tree <tree>` for more information on the estimator.\n",
        "\n",
        "For each pair of iris features, the decision tree learns decision\n",
        "boundaries made of combinations of simple thresholding rules inferred from\n",
        "the training samples.\n",
        "\n",
        "This code was adapted from the example provided by scikit-learn, available at\n",
        "http://scikit-learn.org/stable/auto_examples/tree/plot_iris.html#example-tree-plot-iris-py\n",
        "\"\"\"\n",
        "print(__doc__)\n",
        "\n",
        "import numpy as np\n",
        "import matplotlib.pyplot as plt\n",
        "\n",
        "from sklearn.datasets import load_iris\n",
        "from sklearn.tree import DecisionTreeClassifier\n",
        "\n",
        "# Parameters\n",
        "n_classes = 3\n",
        "plot_colors = \"bry\"\n",
        "plot_step = 0.02\n",
        "\n",
        "# Load data\n",
        "iris = load_iris()\n",
        "\n",
        "for pairidx, pair in enumerate([[0, 1], [0, 2], [0, 3],\n",
        "                                [1, 2], [1, 3], [2, 3]]):\n",
        "    # We only take the two corresponding features\n",
        "    X = iris.data[:, pair]\n",
        "    y = iris.target\n",
        "\n",
        "    # Shuffle\n",
        "    # <array>.shape returns the dimensions of the array\n",
        "    # arange (start,stop,step) creates a 1-D vector\n",
        "    idx = np.arange(X.shape[0])  # returns an array from 0 to X.shape[0], or 150\n",
        "    np.random.seed(13)  # Seed the randomization\n",
        "    np.random.shuffle(idx)  # Shuffle in place based on the seeded randomization\n",
        "\n",
        "    X = X[idx]   # re-sort X randomly based on IDX as indices\n",
        "    y = y[idx]\n",
        "\n",
        "    # Standardize\n",
        "    mean = X.mean(axis=0)    # Take the mean over the first axis (long axis)\n",
        "    std = X.std(axis=0)\n",
        "    X = (X - mean) / std   # Normalize to a 'normal distribution'\n",
        "\n",
        "    # Train\n",
        "    clf = DecisionTreeClassifier().fit(X, y)\n",
        "\n",
        "    # Plot the decision boundary\n",
        "    plt.subplot(2, 3, pairidx + 1)\n",
        "\n",
        "    x_min, x_max = X[:, 0].min() - 1, X[:, 0].max() + 1\n",
        "    y_min, y_max = X[:, 1].min() - 1, X[:, 1].max() + 1\n",
        "\n",
        "    # Meshgrid creates coordinate grid from vectors of coordinates\n",
        "    xx, yy = np.meshgrid(np.arange(x_min, x_max, plot_step),\n",
        "                         np.arange(y_min, y_max, plot_step))\n",
        "\n",
        "    # Ravel creates a 1-D view of the vector\n",
        "    # c_ concatenates 1D vectors into columns of a 2D array, basically\n",
        "    #    making xx.ravel() column 0, yy.ravel() column 1\n",
        "    Z = clf.predict(np.c_[xx.ravel(), yy.ravel()])\n",
        "    Z = Z.reshape(xx.shape)\n",
        "    cs = plt.contourf(xx, yy, Z, cmap=plt.cm.Paired)\n",
        "\n",
        "    plt.xlabel(iris.feature_names[pair[0]])\n",
        "    plt.ylabel(iris.feature_names[pair[1]])\n",
        "    plt.axis(\"tight\")\n",
        "\n",
        "    # Plot the training points\n",
        "    for i, color in zip(range(n_classes), plot_colors):\n",
        "        idx = np.where(y == i)\n",
        "        plt.scatter(X[idx, 0], X[idx, 1], c=color, label=iris.target_names[i],\n",
        "                    cmap=plt.cm.Paired)\n",
        "\n",
        "    plt.axis(\"tight\")\n",
        "\n",
        "plt.suptitle(\"Decision surface of a decision tree using paired features\")\n",
        "plt.legend()\n",
        "plt.show()"
      ],
      "metadata": {
        "id": "9YY8WGpTH-1-"
      },
      "execution_count": null,
      "outputs": []
    },
    {
      "cell_type": "markdown",
      "source": [
        "# Copy SPECTF.dat"
      ],
      "metadata": {
        "id": "UyZpUrmKsL3W"
      }
    },
    {
      "cell_type": "code",
      "source": [
        "!cp \"/content/drive/MyDrive/Colab Notebooks/SPECTF.dat\" /content/"
      ],
      "metadata": {
        "id": "jqirZgjSf16K"
      },
      "execution_count": null,
      "outputs": []
    },
    {
      "cell_type": "markdown",
      "source": [
        "# HW 1.3"
      ],
      "metadata": {
        "id": "oG8X2ZXbsRhD"
      }
    },
    {
      "cell_type": "code",
      "source": [
        "import numpy as np\n",
        "from sklearn import tree\n",
        "from sklearn.metrics import accuracy_score\n",
        "\n",
        "def evaluatePerformance():\n",
        "    # Load Data\n",
        "    filename = '/content/SPECTF.dat'\n",
        "    data = np.loadtxt(filename, delimiter=',')\n",
        "    X = data[:, 1:]\n",
        "    y = np.array([data[:, 0]]).T\n",
        "    n, d = X.shape\n",
        "\n",
        "    # Shuffle the data\n",
        "    idx = np.arange(n)\n",
        "    np.random.seed(13)\n",
        "    np.random.shuffle(idx)\n",
        "    X = X[idx]\n",
        "    y = y[idx]\n",
        "\n",
        "    # Number of trials and folds\n",
        "    num_trials = 100\n",
        "    num_folds = 10\n",
        "\n",
        "    # Initialize arrays to store accuracy values\n",
        "    decision_tree_accuracies = np.zeros(num_trials)\n",
        "    decision_stump_accuracies = np.zeros(num_trials)\n",
        "    dt3_accuracies = np.zeros(num_trials)\n",
        "\n",
        "    for t in range(num_trials):\n",
        "        # Shuffle the data at the start of each trial\n",
        "        np.random.shuffle(idx)\n",
        "        X = X[idx]\n",
        "        y = y[idx]\n",
        "\n",
        "        # num_folds = 10 => fold_size = 26\n",
        "        fold_size = n // num_folds\n",
        "\n",
        "        # Initialize arrays to store accuracy values for each fold\n",
        "        decision_tree_fold_accuracies = np.zeros(num_folds)\n",
        "        decision_stump_fold_accuracies = np.zeros(num_folds)\n",
        "        dt3_fold_accuracies = np.zeros(num_folds)\n",
        "\n",
        "        for fold in range(num_folds):\n",
        "            # Split data into training and testing sets\n",
        "            test_indices = range(fold * fold_size, (fold + 1) * fold_size)\n",
        "            train_indices = [i for i in range(n) if i not in test_indices]\n",
        "\n",
        "            Xtrain, Xtest = X[train_indices, :], X[test_indices, :]\n",
        "            ytrain, ytest = y[train_indices, :], y[test_indices, :]\n",
        "\n",
        "            # Train the decision tree\n",
        "            clf = tree.DecisionTreeClassifier()\n",
        "            clf = clf.fit(Xtrain, ytrain)\n",
        "\n",
        "            # Output predictions on the test data\n",
        "            y_pred = clf.predict(Xtest)\n",
        "\n",
        "            # Compute accuracy for decision tree\n",
        "            decision_tree_fold_accuracies[fold] = accuracy_score(ytest, y_pred)\n",
        "\n",
        "            # Train the decision stump\n",
        "            clf_stump = tree.DecisionTreeClassifier(max_depth=1)\n",
        "            clf_stump = clf_stump.fit(Xtrain, ytrain)\n",
        "\n",
        "            # Output predictions on the test data for decision stump\n",
        "            y_pred_stump = clf_stump.predict(Xtest)\n",
        "\n",
        "            # Compute accuracy for decision stump\n",
        "            decision_stump_fold_accuracies[fold] = accuracy_score(ytest, y_pred_stump)\n",
        "\n",
        "            # Train the 3-level decision tree\n",
        "            clf_dt3 = tree.DecisionTreeClassifier(max_depth=3)\n",
        "            clf_dt3 = clf_dt3.fit(Xtrain, ytrain)\n",
        "\n",
        "            # Output predictions on the test data for 3-level decision tree\n",
        "            y_pred_dt3 = clf_dt3.predict(Xtest)\n",
        "\n",
        "            # Compute accuracy for 3-level decision tree\n",
        "            dt3_fold_accuracies[fold] = accuracy_score(ytest, y_pred_dt3)\n",
        "\n",
        "        # Average accuracy over folds for each trial\n",
        "        # np.mean() => Calculate avarage number of numpyarray\n",
        "        decision_tree_accuracies[t] = np.mean(decision_tree_fold_accuracies)\n",
        "        decision_stump_accuracies[t] = np.mean(decision_stump_fold_accuracies)\n",
        "        dt3_accuracies[t] = np.mean(dt3_fold_accuracies)\n",
        "\n",
        "    # Compute mean and standard deviation over all trials\n",
        "    mean_decision_tree_accuracy = np.mean(decision_tree_accuracies)\n",
        "    std_decision_tree_accuracy = np.std(decision_tree_accuracies)\n",
        "\n",
        "    mean_decision_stump_accuracy = np.mean(decision_stump_accuracies)\n",
        "    std_decision_stump_accuracy = np.std(decision_stump_accuracies)\n",
        "\n",
        "    mean_dt3_accuracy = np.mean(dt3_accuracies)\n",
        "    std_dt3_accuracy = np.std(dt3_accuracies)\n",
        "\n",
        "    # Return the statistics\n",
        "    stats = np.array([[mean_decision_tree_accuracy, std_decision_tree_accuracy],\n",
        "                      [mean_decision_stump_accuracy, std_decision_stump_accuracy],\n",
        "                      [mean_dt3_accuracy, std_dt3_accuracy]])\n",
        "\n",
        "    return stats\n",
        "\n",
        "if __name__ == \"__main__\":\n",
        "    stats = evaluatePerformance()\n",
        "    print(\"Decision Tree Accuracy = {:.4f} ({:.4f})\".format(stats[0, 0], stats[0, 1]))\n",
        "    print(\"Decision Stump Accuracy = {:.4f} ({:.4f})\".format(stats[1, 0], stats[1, 1]))\n",
        "    print(\"3-level Decision Tree Accuracy = {:.4f} ({:.4f})\".format(stats[2, 0], stats[2, 1]))"
      ],
      "metadata": {
        "colab": {
          "base_uri": "https://localhost:8080/"
        },
        "id": "FuvOo0tYbt55",
        "outputId": "841517a0-b830-4827-935c-af2a23f7dc07"
      },
      "execution_count": null,
      "outputs": [
        {
          "output_type": "stream",
          "name": "stdout",
          "text": [
            "Decision Tree Accuracy = 0.7366 (0.0212)\n",
            "Decision Stump Accuracy = 0.7938 (0.0037)\n",
            "3-level Decision Tree Accuracy = 0.7575 (0.0195)\n"
          ]
        }
      ]
    },
    {
      "cell_type": "markdown",
      "source": [
        "# HW 1.4"
      ],
      "metadata": {
        "id": "nEfoZlUisT6n"
      }
    },
    {
      "cell_type": "code",
      "source": [
        "import numpy as np\n",
        "import matplotlib.pyplot as plt\n",
        "\n",
        "from sklearn import tree\n",
        "from sklearn.metrics import accuracy_score\n",
        "\n",
        "def evaluatePerformance():\n",
        "    '''\n",
        "    Evaluate the performance of decision trees,\n",
        "    averaged over 100 trials of 10-fold cross-validation\n",
        "\n",
        "    Return:\n",
        "      a matrix giving the performance that will contain the following entries:\n",
        "      stats[0,0] = mean accuracy of decision tree\n",
        "      stats[0,1] = std deviation of decision tree accuracy\n",
        "      stats[1,0] = mean accuracy of decision stump\n",
        "      stats[1,1] = std deviation of decision stump accuracy\n",
        "      stats[2,0] = mean accuracy of 3-level decision tree\n",
        "      stats[2,1] = std deviation of 3-level decision tree accuracy\n",
        "\n",
        "    ** Note that your implementation must follow this API**\n",
        "    '''\n",
        "\n",
        "    # Load Data\n",
        "    filename = '/content/SPECTF.dat'\n",
        "    data = np.loadtxt(filename, delimiter=',')\n",
        "    X = data[:, 1:]\n",
        "    y = np.array([data[:, 0]]).T\n",
        "    n, d = X.shape\n",
        "\n",
        "    # shuffle the data\n",
        "    idx = np.arange(n)\n",
        "    np.random.seed(13)\n",
        "    np.random.shuffle(idx)\n",
        "    X = X[idx]\n",
        "    y = y[idx]\n",
        "\n",
        "    # Initialize variables for collecting results\n",
        "    decision_tree_accuracies = []\n",
        "    decision_stump_accuracies = []\n",
        "    dt3_accuracies = []\n",
        "\n",
        "    # Additional decision trees of varying limited depths\n",
        "    dt_depth_accuracies = {2: [], 4: [], 6: []}\n",
        "\n",
        "    # Initialize learning curve variables\n",
        "    learning_curve_means = np.zeros((10, 4))\n",
        "    learning_curve_stddevs = np.zeros((10, 4))\n",
        "\n",
        "    # 100 trials of 10-fold cross-validation\n",
        "    for _ in range(100):\n",
        "        for i in range(10):\n",
        "            # Split the data into train and test folds\n",
        "            start = i * (n // 10)\n",
        "            end = (i + 1) * (n // 10)\n",
        "\n",
        "            Xtest = X[start:end, :]\n",
        "            ytest = y[start:end, :]\n",
        "\n",
        "            for j in range(1, 11):\n",
        "                # Use j% of the training data\n",
        "                train_size = int(j * 0.1 * (n - n // 10))\n",
        "                Xtrain = X[:train_size, :]\n",
        "                ytrain = y[:train_size, :]\n",
        "\n",
        "                # Train the decision tree\n",
        "                clf = tree.DecisionTreeClassifier()\n",
        "                clf = clf.fit(Xtrain, ytrain)\n",
        "\n",
        "                # Output predictions on the test fold\n",
        "                y_pred = clf.predict(Xtest)\n",
        "\n",
        "                # Compute accuracy for the decision tree\n",
        "                acc_decision_tree = accuracy_score(ytest, y_pred)\n",
        "                decision_tree_accuracies.append(acc_decision_tree)\n",
        "\n",
        "                learning_curve_means[j-1, 0] += acc_decision_tree\n",
        "                learning_curve_stddevs[j-1, 0] += acc_decision_tree ** 2\n",
        "\n",
        "                # Train the decision stump\n",
        "                clf_stump = tree.DecisionTreeClassifier(max_depth=1)\n",
        "                clf_stump = clf_stump.fit(Xtrain, ytrain)\n",
        "\n",
        "                # Output predictions on the test fold\n",
        "                y_pred_stump = clf_stump.predict(Xtest)\n",
        "\n",
        "                # Compute accuracy for decision stump\n",
        "                acc_decision_stump = accuracy_score(ytest, y_pred_stump)\n",
        "                decision_stump_accuracies.append(acc_decision_stump)\n",
        "\n",
        "                learning_curve_means[j-1, 1] += acc_decision_stump\n",
        "                learning_curve_stddevs[j-1, 1] += acc_decision_stump ** 2\n",
        "\n",
        "                # Train the 3-level decision tree\n",
        "                clf_dt3 = tree.DecisionTreeClassifier(max_depth=3)\n",
        "                clf_dt3 = clf_dt3.fit(Xtrain, ytrain)\n",
        "\n",
        "                # Output predictions on the test fold\n",
        "                y_pred_dt3 = clf_dt3.predict(Xtest)\n",
        "\n",
        "                # Compute accuracy for 3-level decision tree\n",
        "                acc_dt3 = accuracy_score(ytest, y_pred_dt3)\n",
        "                dt3_accuracies.append(acc_dt3)\n",
        "\n",
        "                learning_curve_means[j-1, 2] += acc_dt3\n",
        "                learning_curve_stddevs[j-1, 2] += acc_dt3 ** 2\n",
        "\n",
        "                # Train additional decision trees of varying limited depths\n",
        "                for depth in [2, 4, 6, 8, 10]:\n",
        "                    if depth not in dt_depth_accuracies:\n",
        "                      dt_depth_accuracies[depth] = []\n",
        "                    clf_depth = tree.DecisionTreeClassifier(max_depth=depth)\n",
        "                    clf_depth = clf_depth.fit(Xtrain, ytrain)\n",
        "\n",
        "                    # Output predictions on the test fold\n",
        "                    y_pred_depth = clf_depth.predict(Xtest)\n",
        "\n",
        "                    # Compute accuracy for the additional decision trees\n",
        "                    acc_depth = accuracy_score(ytest, y_pred_depth)\n",
        "                    dt_depth_accuracies[depth].append(acc_depth)\n",
        "\n",
        "                    learning_curve_means[j-1, 3] += acc_depth\n",
        "                    learning_curve_stddevs[j-1, 3] += acc_depth ** 2\n",
        "\n",
        "    # Compute mean and standard deviation for each classifier\n",
        "    meanDecisionTreeAccuracy = np.mean(decision_tree_accuracies) if decision_tree_accuracies else np.nan\n",
        "    stddevDecisionTreeAccuracy = np.std(decision_tree_accuracies) if decision_tree_accuracies else np.nan\n",
        "\n",
        "    meanDecisionStumpAccuracy = np.mean(decision_stump_accuracies) if decision_stump_accuracies else np.nan\n",
        "    stddevDecisionStumpAccuracy = np.std(decision_stump_accuracies) if decision_stump_accuracies else np.nan\n",
        "\n",
        "    meanDT3Accuracy = np.mean(dt3_accuracies) if dt3_accuracies else np.nan\n",
        "    stddevDT3Accuracy = np.std(dt3_accuracies) if dt3_accuracies else np.nan\n",
        "\n",
        "    # Compute mean and standard deviation for the learning curve\n",
        "    learning_curve_means /= 100\n",
        "    learning_curve_stddevs = np.sqrt(learning_curve_stddevs / 100 - learning_curve_means ** 2)\n",
        "\n",
        "    # Make certain that the return value matches the API specification\n",
        "    stats = np.zeros((3, 2))\n",
        "    stats[0, 0] = meanDecisionTreeAccuracy\n",
        "    stats[0, 1] = stddevDecisionTreeAccuracy\n",
        "    stats[1, 0] = meanDecisionStumpAccuracy\n",
        "    stats[1, 1] = stddevDecisionStumpAccuracy\n",
        "    stats[2, 0] = meanDT3Accuracy\n",
        "    stats[2, 1] = stddevDT3Accuracy\n",
        "\n",
        "    # Plot the learning curve\n",
        "    x_vals = np.arange(0.1, 1.1, 0.1)\n",
        "    plt.errorbar(x_vals, learning_curve_means[:, 0], yerr=learning_curve_stddevs[:, 0], label='Decision Tree')\n",
        "    plt.errorbar(x_vals, learning_curve_means[:, 1], yerr=learning_curve_stddevs[:, 1], label='Decision Stump')\n",
        "    plt.errorbar(x_vals, learning_curve_means[:, 2], yerr=learning_curve_stddevs[:, 2], label='3-level Decision Tree')\n",
        "    plt.errorbar(x_vals, learning_curve_means[:, 3], yerr=learning_curve_stddevs[:, 3], label='Depth-limited Decision Tree')\n",
        "\n",
        "    plt.xlabel('Percentage of Training Data')\n",
        "    plt.ylabel('Accuracy')\n",
        "    plt.legend()\n",
        "    plt.show()\n",
        "\n",
        "    return stats\n",
        "\n",
        "# Do not modify from HERE...\n",
        "if __name__ == \"__main__\":\n",
        "    stats = evaluatePerformance()\n",
        "    print(\"Decision Tree Accuracy = \", stats[0, 0], \" (\", stats[0, 1], \")\")\n",
        "    print(\"Decision Stump Accuracy = \", stats[1, 0], \" (\", stats[1, 1], \")\")\n",
        "    print(\"3-level Decision Tree = \", stats[2, 0], \" (\", stats[2, 1], \")\")\n",
        "# ...to HERE.\n"
      ],
      "metadata": {
        "id": "iZlBdCE0iLDP",
        "colab": {
          "base_uri": "https://localhost:8080/",
          "height": 570
        },
        "outputId": "a6a26ba9-bc5d-48f3-c54a-2c65fb2879df"
      },
      "execution_count": null,
      "outputs": [
        {
          "output_type": "stream",
          "name": "stderr",
          "text": [
            "<ipython-input-11-61464043b87e>:137: RuntimeWarning: invalid value encountered in sqrt\n",
            "  learning_curve_stddevs = np.sqrt(learning_curve_stddevs / 100 - learning_curve_means ** 2)\n",
            "/usr/local/lib/python3.10/dist-packages/matplotlib/axes/_base.py:2503: UserWarning: Warning: converting a masked element to nan.\n",
            "  xys = np.asarray(xys)\n"
          ]
        },
        {
          "output_type": "display_data",
          "data": {
            "text/plain": [
              "<Figure size 640x480 with 1 Axes>"
            ],
            "image/png": "[encoded data removed]"
          },
          "metadata": {}
        },
        {
          "output_type": "stream",
          "name": "stdout",
          "text": [
            "Decision Tree Accuracy =  0.8659076923076922  ( 0.14881293129533488 )\n",
            "Decision Stump Accuracy =  0.7765384615384615  ( 0.1020057719680259 )\n",
            "3-level Decision Tree =  0.8225923076923078  ( 0.11556089892756437 )\n"
          ]
        }
      ]
    }
  ]
}